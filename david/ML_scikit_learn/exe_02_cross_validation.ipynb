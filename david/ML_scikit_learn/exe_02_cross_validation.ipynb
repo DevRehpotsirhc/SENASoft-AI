{
 "cells": [
  {
   "cell_type": "code",
   "execution_count": 1,
   "id": "d637da8a",
   "metadata": {},
   "outputs": [],
   "source": [
    "from sklearn.metrics import mean_squared_error\n",
    "from sklearn.linear_model import LinearRegression\n",
    "from sklearn.model_selection import KFold\n",
    "import numpy as np\n"
   ]
  },
  {
   "cell_type": "code",
   "execution_count": null,
   "id": "c3586c20",
   "metadata": {},
   "outputs": [],
   "source": [
    "x = np.array([[1, 2], [3, 4], [5, 6], [7, 8]])\n",
    "y = np.array([1, 2, 3, 4])"
   ]
  },
  {
   "cell_type": "code",
   "execution_count": 5,
   "id": "fd72cc4a",
   "metadata": {},
   "outputs": [
    {
     "data": {
      "text/plain": [
       "KFold(n_splits=2, random_state=None, shuffle=True)"
      ]
     },
     "execution_count": 5,
     "metadata": {},
     "output_type": "execute_result"
    }
   ],
   "source": [
    "kf = KFold(n_splits=2, shuffle=True)\n",
    "kf"
   ]
  },
  {
   "cell_type": "code",
   "execution_count": null,
   "id": "7d6af263",
   "metadata": {},
   "outputs": [
    {
     "data": {
      "text/plain": [
       "<generator object _BaseKFold.split at 0x00000144C814FDE0>"
      ]
     },
     "execution_count": 7,
     "metadata": {},
     "output_type": "execute_result"
    }
   ],
   "source": [
    "kf.get_n_splits(x)"
   ]
  },
  {
   "cell_type": "code",
   "execution_count": 8,
   "id": "41e6d1d4",
   "metadata": {},
   "outputs": [
    {
     "name": "stdout",
     "output_type": "stream",
     "text": [
      "TRAIN: [0 3] TEST: [1 2]\n",
      "[[1 2]\n",
      " [7 8]] [[3 4]\n",
      " [5 6]]\n",
      "[1 4] [2 3]\n",
      "---------------\n",
      "TRAIN: [1 2] TEST: [0 3]\n",
      "[[3 4]\n",
      " [5 6]] [[1 2]\n",
      " [7 8]]\n",
      "[2 3] [1 4]\n",
      "---------------\n"
     ]
    }
   ],
   "source": [
    "for train_index, test_index in kf.split(x):\n",
    "    print(\"TRAIN:\", train_index, \"TEST:\", test_index)\n",
    "    X_train, X_test = x[train_index], x[test_index]\n",
    "    y_train, y_test = y[train_index], y[test_index]\n",
    "    print(X_train, X_test)\n",
    "    print(y_train, y_test)\n",
    "    print(\"---------------\")"
   ]
  },
  {
   "cell_type": "code",
   "execution_count": null,
   "id": "0cd6fb0d",
   "metadata": {},
   "outputs": [],
   "source": [
    "# _____________ EXPLICACION _____________\n",
    "\n",
    "# Ejercicio: Se busca predecir la nota final de un estudiante según dos factores:\n",
    "# Horas de estudio 📚\n",
    "# Horas de sueño 😴\n",
    "\n",
    "\n",
    "\n",
    "#               cada uno de estos arrays son los datos de entrada (estudiantes con horas de estudio / horas de sueño) \n",
    "#               con los que se entrenara y testeara el modelo futuro \n",
    "#                       ↓↓↓\n",
    "x = np.array([[1, 2], [3, 4], [5, 6], [7, 8]])\n",
    "\n",
    "#               cada uno de estos numeros son las respuestas de prediccion REALES de cada uno de los estudiantes\n",
    "#               en funcion con sus horas dormidas/ horas de estudio\n",
    "#                 ↓↓↓\n",
    "y = np.array([1, 2, 3, 4])"
   ]
  },
  {
   "cell_type": "code",
   "execution_count": null,
   "id": "7c813c1a",
   "metadata": {},
   "outputs": [
    {
     "name": "stdout",
     "output_type": "stream",
     "text": [
      "TRAIN INDEX: [0 2] TEST INDEX: [1 3]\n",
      "Valores reales: [70 80]\n",
      "Predicciones : [61. 64.]\n",
      "Error (MSE): 168.5\n",
      "---------------\n",
      "TRAIN INDEX: [1 3] TEST INDEX: [0 2]\n",
      "Valores reales: [60 65]\n",
      "Predicciones : [64. 70.]\n",
      "Error (MSE): 20.5\n",
      "---------------\n",
      "Error promedio en todos los folds: 94.5\n"
     ]
    }
   ],
   "source": [
    "# _____________ EJERCICIO DE REGRESION LINEAL _____________\n",
    "\n",
    "# X = características (horas de estudio, horas de sueño)\n",
    "X = np.array([\n",
    "    [2, 5],   # Estudiante 1\n",
    "    [3, 6],   # Estudiante 2\n",
    "    [4, 4],   # Estudiante 3\n",
    "    [5, 7],   # Estudiante 4\n",
    "])\n",
    "y = np.array([60, 70, 65, 80])\n",
    "\n",
    "kf = KFold(n_splits=2, shuffle=True, random_state=42)\n",
    "model = LinearRegression()\n",
    "\n",
    "errors = []\n",
    "\n",
    "for train_index, test_index in kf.split(X):\n",
    "    X_train, X_test = X[train_index], X[test_index]\n",
    "    y_train, y_test = y[train_index], y[test_index]\n",
    "    \n",
    "    model.fit(X_train, y_train)\n",
    "    \n",
    "    y_pred = model.predict(X_test)\n",
    "    \n",
    "    mse = mean_squared_error(y_test, y_pred)\n",
    "    errors.append(mse)\n",
    "    \n",
    "    print(\"TRAIN INDEX:\", train_index, \"TEST INDEX:\", test_index)\n",
    "    print(\"Valores reales:\", y_test)\n",
    "    print(\"Predicciones :\", np.round(y_pred, 2))\n",
    "    print(\"Error (MSE):\", round(mse, 2))\n",
    "    print(\"---------------\")\n",
    "\n",
    "print(\"Error promedio en todos los folds:\", round(np.mean(errors), 2))\n"
   ]
  }
 ],
 "metadata": {
  "kernelspec": {
   "display_name": "venv",
   "language": "python",
   "name": "python3"
  },
  "language_info": {
   "codemirror_mode": {
    "name": "ipython",
    "version": 3
   },
   "file_extension": ".py",
   "mimetype": "text/x-python",
   "name": "python",
   "nbconvert_exporter": "python",
   "pygments_lexer": "ipython3",
   "version": "3.13.3"
  }
 },
 "nbformat": 4,
 "nbformat_minor": 5
}
