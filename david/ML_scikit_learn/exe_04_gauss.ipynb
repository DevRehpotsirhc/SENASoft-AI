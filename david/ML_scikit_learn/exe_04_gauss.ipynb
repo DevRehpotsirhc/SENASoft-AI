{
 "cells": [
  {
   "cell_type": "code",
   "execution_count": null,
   "id": "7f157f6e",
   "metadata": {},
   "outputs": [],
   "source": [
    "import pandas as pd\n",
    "import numpy as np\n",
    "from sklearn import datasets\n",
    "from sklearn.linear_model import LinearRegression\n",
    "from sklearn.naive_bayes import GaussianNB\n",
    "from sklearn.metrics import mean_squared_error, r2_score\n",
    "from sklearn.model_selection import train_test_split\n",
    "from sklearn.metrics import classification_report\n",
    "from sklearn.metrics import confusion_matrix\n",
    "from sklearn.metrics import accuracy_score\n",
    "from sklearn.model_selection import cross_val_score\n",
    "from sklearn.preprocessing import StandardScaler\n",
    "%matplotlib inline"
   ]
  },
  {
   "cell_type": "code",
   "execution_count": null,
   "id": "9a2c3977",
   "metadata": {},
   "outputs": [],
   "source": [
    "data = datasets.load_diabetes()"
   ]
  },
  {
   "cell_type": "code",
   "execution_count": null,
   "id": "fac1bec7",
   "metadata": {},
   "outputs": [],
   "source": [
    "X = data.data[:, [-2, -1]]\n",
    "Y = data.target\n",
    "\n",
    "print(f'X: {X} Y:{Y}')\n"
   ]
  },
  {
   "cell_type": "code",
   "execution_count": null,
   "id": "02e22fff",
   "metadata": {},
   "outputs": [],
   "source": [
    "X_train, X_test, Y_train, Y_test = train_test_split(X, Y, test_size=0.4, random_state=2222)"
   ]
  },
  {
   "cell_type": "code",
   "execution_count": null,
   "id": "cedc6e75",
   "metadata": {},
   "outputs": [],
   "source": [
    "\n",
    "sc = StandardScaler()\n",
    "X_train_std = sc.fit_transform(X_train)\n",
    "X_test_std = sc.transform(X_test)\n",
    "\n",
    "print(f'XTRAIN: {X_train_std} XTEST:{X_test_std}')\n"
   ]
  },
  {
   "cell_type": "code",
   "execution_count": null,
   "id": "005b687a",
   "metadata": {},
   "outputs": [],
   "source": []
  },
  {
   "cell_type": "code",
   "execution_count": null,
   "id": "57423106",
   "metadata": {},
   "outputs": [],
   "source": [
    "\n",
    "reg = LinearRegression()\n",
    "reg.fit(X_train_std, Y_train)\n",
    "\n",
    "y_pred = reg.predict(X_test_std)\n",
    "\n",
    "print(\"MSE:\", mean_squared_error(Y_test, y_pred))\n",
    "print(\"R2 Score:\", r2_score(Y_test, y_pred))"
   ]
  },
  {
   "cell_type": "code",
   "execution_count": null,
   "id": "20c16bc4",
   "metadata": {},
   "outputs": [],
   "source": [
    "# Convert regression outputs to nearest integer for classification metrics\n",
    "y_pred_class = np.round(y_pred)\n",
    "Y_test_class = np.round(Y_test)\n",
    "\n",
    "print(f'matriz de confucion: \\n\\n{confusion_matrix(Y_test_class, y_pred_class)}')\n",
    "print(f\"Accuracy: \\n{accuracy_score(Y_test_class, y_pred_class)}\")\n",
    "print(f\"Classification report:\\n{classification_report(Y_test_class, y_pred_class)}\")"
   ]
  },
  {
   "cell_type": "code",
   "execution_count": null,
   "id": "7b27a0a0",
   "metadata": {},
   "outputs": [],
   "source": [
    "flores = datasets.load_iris()\n",
    "x = flores.data[:, [2,3]]\n",
    "y = flores.target\n",
    "\n",
    "print(flores.target)\n"
   ]
  },
  {
   "cell_type": "code",
   "execution_count": null,
   "id": "ad1061ac",
   "metadata": {},
   "outputs": [],
   "source": [
    "x_train, x_test, y_train, y_test = train_test_split(x, y, test_size=0.3, random_state=2018)"
   ]
  },
  {
   "cell_type": "code",
   "execution_count": null,
   "id": "457ed004",
   "metadata": {},
   "outputs": [],
   "source": [
    "scaler = StandardScaler()\n",
    "x_train_std = scaler.fit_transform(x_train)\n",
    "x_test_std = scaler.transform(x_test)"
   ]
  },
  {
   "cell_type": "code",
   "execution_count": null,
   "id": "c6ff72df",
   "metadata": {},
   "outputs": [],
   "source": [
    "model = GaussianNB()\n",
    "model.fit(x_train_std, y_train)"
   ]
  },
  {
   "cell_type": "code",
   "execution_count": null,
   "id": "996d6eee",
   "metadata": {},
   "outputs": [],
   "source": [
    "print(confusion_matrix(y_test, model.predict(x_test_std)))"
   ]
  },
  {
   "cell_type": "code",
   "execution_count": null,
   "id": "cdcf732a",
   "metadata": {},
   "outputs": [],
   "source": [
    "vino = datasets.load_wine()\n",
    "x = vino.data[:, [2,3]]\n",
    "y = vino.target"
   ]
  },
  {
   "cell_type": "code",
   "execution_count": null,
   "id": "de941f93",
   "metadata": {},
   "outputs": [],
   "source": [
    "x_train, x_test, y_train, y_test = train_test_split(x, y, test_size=0.3, random_state=2018)"
   ]
  },
  {
   "cell_type": "code",
   "execution_count": null,
   "id": "401e317c",
   "metadata": {},
   "outputs": [],
   "source": [
    "sc = StandardScaler()\n",
    "x_train_std = sc.fit_transform(x_train)\n",
    "x_test_std = sc.transform(x_test)"
   ]
  },
  {
   "cell_type": "code",
   "execution_count": null,
   "id": "9e79c3fc",
   "metadata": {},
   "outputs": [],
   "source": [
    "model = GaussianNB()\n",
    "model.fit(x_train_std, y_train)"
   ]
  },
  {
   "cell_type": "code",
   "execution_count": null,
   "id": "53f5ada0",
   "metadata": {},
   "outputs": [],
   "source": [
    "\n",
    "print(confusion_matrix(y_test, model.predict(x_test_std)))"
   ]
  },
  {
   "cell_type": "code",
   "execution_count": null,
   "id": "82defd78",
   "metadata": {},
   "outputs": [],
   "source": [
    "import Plotting_Decision_Boundaries as db\n",
    "\n",
    "\n",
    "X_combined_std = np.vstack((x_train_std, x_test_std))\n",
    "y_combined = np.hstack((y_train, y_test))\n",
    "\n",
    "db.plotting_db(X=X_combined_std, y=y_combined, classifier=model)"
   ]
  }
 ],
 "metadata": {
  "kernelspec": {
   "display_name": "venv",
   "language": "python",
   "name": "python3"
  },
  "language_info": {
   "codemirror_mode": {
    "name": "ipython",
    "version": 3
   },
   "file_extension": ".py",
   "mimetype": "text/x-python",
   "name": "python",
   "nbconvert_exporter": "python",
   "pygments_lexer": "ipython3",
   "version": "3.13.3"
  }
 },
 "nbformat": 4,
 "nbformat_minor": 5
}
