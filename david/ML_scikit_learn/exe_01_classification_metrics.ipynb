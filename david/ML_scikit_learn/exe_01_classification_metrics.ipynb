{
 "cells": [
  {
   "cell_type": "code",
   "execution_count": 1,
   "id": "9f21ffec",
   "metadata": {},
   "outputs": [],
   "source": [
    "import numpy as np\n",
    "from sklearn.metrics import accuracy_score\n",
    "from sklearn.metrics import confusion_matrix\n",
    "from sklearn.metrics import classification_report"
   ]
  },
  {
   "cell_type": "code",
   "execution_count": null,
   "id": "78f87751",
   "metadata": {},
   "outputs": [
    {
     "name": "stdout",
     "output_type": "stream",
     "text": [
      "0.5\n"
     ]
    }
   ],
   "source": [
    "actual_values =     [0, 1, 2, 3]\n",
    "prediction_values = [0, 2, 1, 3]\n",
    "\n",
    "accuracy = sum([a == p for a, p in zip(actual_values, prediction_values)]) / len(actual_values)\n",
    "print(accuracy)\n",
    "\n",
    "accuracy = accuracy_score(actual_values, prediction_values)\n",
    "print(accuracy)"
   ]
  },
  {
   "cell_type": "code",
   "execution_count": 15,
   "id": "b5f01415",
   "metadata": {},
   "outputs": [
    {
     "name": "stdout",
     "output_type": "stream",
     "text": [
      "[[2 1 0 0]\n",
      " [0 0 2 0]\n",
      " [0 1 0 0]\n",
      " [0 0 0 2]]\n"
     ]
    }
   ],
   "source": [
    "actual_values =     [0, 1, 0, 3, 0, 1, 2, 3]\n",
    "prediction_values = [0, 2, 1, 3, 0, 2, 1, 3]\n",
    "\n",
    "matrix = confusion_matrix(actual_values, prediction_values)\n",
    "print(matrix)\n",
    "\n",
    "# ___________ EXPLICACION ___________\n",
    "# [2 1 0 0] ← fila de predicciones del numero 0\n",
    "# [0 0 2 0] ← fila de predicciones del numero 1\n",
    "# [0 1 0 0] ← fila de predicciones del numero 2\n",
    "# [0 0 0 2] ← fila de predicciones del numero 3\n",
    "\n",
    "# ___________ EJEMPLO FILA '0' ____________\n",
    "#  1er valor: cuando el valor real era '0' se predijo 2 veces que era '0'\n",
    "#  2do valor: cuando el valor real era '0' se predijo 1 vez que era '1'\n",
    "#  3er valor: cuando el valor real era '0' se predijo 0 veces que era '2'\n",
    "#  4to valor: cuando el valor real era '0' se predijo 0 veces que era '3'\n",
    "# ___________________________________"
   ]
  },
  {
   "cell_type": "code",
   "execution_count": 4,
   "id": "a8a32108",
   "metadata": {},
   "outputs": [
    {
     "name": "stdout",
     "output_type": "stream",
     "text": [
      "True Negatives: 1, False Positives: 1, False Negatives: 1, True Positives: 1\n"
     ]
    }
   ],
   "source": [
    "binary_true = [0, 0, 1, 1]\n",
    "binary_pred = [0, 1, 0, 1]\n",
    "tn, fp, fn, tp = confusion_matrix(binary_true, binary_pred).ravel()\n",
    "\n",
    "print(f\"True Negatives: {tn}, False Positives: {fp}, False Negatives: {fn}, True Positives: {tp}\")"
   ]
  }
 ],
 "metadata": {
  "kernelspec": {
   "display_name": "venv",
   "language": "python",
   "name": "python3"
  },
  "language_info": {
   "codemirror_mode": {
    "name": "ipython",
    "version": 3
   },
   "file_extension": ".py",
   "mimetype": "text/x-python",
   "name": "python",
   "nbconvert_exporter": "python",
   "pygments_lexer": "ipython3",
   "version": "3.13.3"
  }
 },
 "nbformat": 4,
 "nbformat_minor": 5
}
