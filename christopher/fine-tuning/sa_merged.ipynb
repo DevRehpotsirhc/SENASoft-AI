{
 "cells": [
  {
   "cell_type": "code",
   "execution_count": 9,
   "id": "ffe7ba9d",
   "metadata": {},
   "outputs": [],
   "source": [
    "from huggingface_hub import create_repo\n",
    "from transformers import AutoModelForSequenceClassification, AutoTokenizer\n",
    "from peft import PeftModel\n",
    "import shutil"
   ]
  },
  {
   "cell_type": "code",
   "execution_count": 10,
   "id": "8071444c",
   "metadata": {},
   "outputs": [
    {
     "name": "stderr",
     "output_type": "stream",
     "text": [
      "Some weights of BertForSequenceClassification were not initialized from the model checkpoint at nlptown/bert-base-multilingual-uncased-sentiment and are newly initialized because the shapes did not match:\n",
      "- classifier.bias: found shape torch.Size([5]) in the checkpoint and torch.Size([3]) in the model instantiated\n",
      "- classifier.weight: found shape torch.Size([5, 768]) in the checkpoint and torch.Size([3, 768]) in the model instantiated\n",
      "You should probably TRAIN this model on a down-stream task to be able to use it for predictions and inference.\n"
     ]
    }
   ],
   "source": [
    "etiquetas = {\n",
    "    0: \"negativo\",\n",
    "    1: \"neutral\",\n",
    "    2: \"positivo\"\n",
    "}\n",
    "\n",
    "modelo = \"nlptown/bert-base-multilingual-uncased-sentiment\"\n",
    "tokenizador = AutoTokenizer.from_pretrained(modelo)\n",
    "modelo_base = AutoModelForSequenceClassification.from_pretrained(\n",
    "    modelo,\n",
    "    num_labels=3,\n",
    "    ignore_mismatched_sizes=True,\n",
    "    id2label=etiquetas,\n",
    "    label2id={v: k for k, v in etiquetas.items()}\n",
    ")"
   ]
  },
  {
   "cell_type": "code",
   "execution_count": 11,
   "id": "4fea9473",
   "metadata": {},
   "outputs": [
    {
     "data": {
      "text/plain": [
       "('./modelo_sa\\\\tokenizer_config.json',\n",
       " './modelo_sa\\\\special_tokens_map.json',\n",
       " './modelo_sa\\\\vocab.txt',\n",
       " './modelo_sa\\\\added_tokens.json',\n",
       " './modelo_sa\\\\tokenizer.json')"
      ]
     },
     "execution_count": 11,
     "metadata": {},
     "output_type": "execute_result"
    }
   ],
   "source": [
    "# Carga el modelo entrenado con LoRA\n",
    "modelo_lora = PeftModel.from_pretrained(modelo_base, \"./resultados/checkpoint-8760\")\n",
    "\n",
    "# Hace el merge de LoRA con el modelo base\n",
    "modelo_final = modelo_lora.merge_and_unload() #type:ignore\n",
    "\n",
    "# Guarda el modelo fusionado\n",
    "modelo_final.save_pretrained(\"./modelo_sa\")\n",
    "tokenizador.save_pretrained(\"./modelo_sa\")"
   ]
  },
  {
   "cell_type": "code",
   "execution_count": 12,
   "id": "7addaeee",
   "metadata": {},
   "outputs": [
    {
     "data": {
      "application/vnd.jupyter.widget-view+json": {
       "model_id": "93fa803d6f974acd8d33a8e80bc4a8d1",
       "version_major": 2,
       "version_minor": 0
      },
      "text/plain": [
       "Processing Files (0 / 0)                : |          |  0.00B /  0.00B            "
      ]
     },
     "metadata": {},
     "output_type": "display_data"
    },
    {
     "data": {
      "application/vnd.jupyter.widget-view+json": {
       "model_id": "4deaaf26e3b0486e8b80335e4c4b8605",
       "version_major": 2,
       "version_minor": 0
      },
      "text/plain": [
       "New Data Upload                         : |          |  0.00B /  0.00B            "
      ]
     },
     "metadata": {},
     "output_type": "display_data"
    },
    {
     "data": {
      "application/vnd.jupyter.widget-view+json": {
       "model_id": "cc15508754fb4632b01adcc82813c148",
       "version_major": 2,
       "version_minor": 0
      },
      "text/plain": [
       "  ...\\Temp\\tmphsvncpt7\\model.safetensors:   9%|8         | 58.7MB /  669MB            "
      ]
     },
     "metadata": {},
     "output_type": "display_data"
    },
    {
     "data": {
      "application/vnd.jupyter.widget-view+json": {
       "model_id": "8083dd2fd6fb496daeab8224581af778",
       "version_major": 2,
       "version_minor": 0
      },
      "text/plain": [
       "README.md: 0.00B [00:00, ?B/s]"
      ]
     },
     "metadata": {},
     "output_type": "display_data"
    },
    {
     "data": {
      "text/plain": [
       "CommitInfo(commit_url='https://huggingface.co/SenaSoft/chdv-sentiment-analysis/commit/425059fa16628bffdc92aa7e3fe6f84ffdd3b982', commit_message='Upload tokenizer', commit_description='', oid='425059fa16628bffdc92aa7e3fe6f84ffdd3b982', pr_url=None, repo_url=RepoUrl('https://huggingface.co/SenaSoft/chdv-sentiment-analysis', endpoint='https://huggingface.co', repo_type='model', repo_id='SenaSoft/chdv-sentiment-analysis'), pr_revision=None, pr_num=None)"
      ]
     },
     "execution_count": 12,
     "metadata": {},
     "output_type": "execute_result"
    }
   ],
   "source": [
    "repo_id = \"SenaSoft/chdv-sentiment-analysis\"\n",
    "\n",
    "# Crear el repo en HF si no existe\n",
    "create_repo(repo_id, exist_ok=True)\n",
    "\n",
    "shutil.copy(\"./resultados/checkpoint-8760/README.md\", \"./modelo_sa/README.md\")\n",
    "\n",
    "# Subir el modelo fusionado\n",
    "modelo_final.push_to_hub(repo_id)\n",
    "tokenizador.push_to_hub(repo_id)"
   ]
  }
 ],
 "metadata": {
  "kernelspec": {
   "display_name": ".venv",
   "language": "python",
   "name": "python3"
  },
  "language_info": {
   "codemirror_mode": {
    "name": "ipython",
    "version": 3
   },
   "file_extension": ".py",
   "mimetype": "text/x-python",
   "name": "python",
   "nbconvert_exporter": "python",
   "pygments_lexer": "ipython3",
   "version": "3.13.0"
  }
 },
 "nbformat": 4,
 "nbformat_minor": 5
}
