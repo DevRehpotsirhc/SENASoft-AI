{
 "cells": [
  {
   "cell_type": "markdown",
   "id": "9a2f7f67",
   "metadata": {},
   "source": [
    "# Cross Validation con método K Fold"
   ]
  },
  {
   "cell_type": "markdown",
   "id": "903d5920",
   "metadata": {},
   "source": [
    "La validación cruzada con el método K Fold busca relizar <strong>ciclos de prueba y entrenamiento</strong> a los modelos predictivos para mirar su <strong>comportamiento en un conjunto de datos K</strong>; según la cantidad de ciclos se toma una muestra para hacer pruebas y las demás para entrenamiento, sustituyendo la posición de cada conjunto K (en pruebas) hasta culminar el ciclo\n",
    "\n",
    "<table>\n",
    "    <thead>\n",
    "    <tr>\n",
    "        <th>Ciclo (K)</th>\n",
    "        <th>Fold 1</th>\n",
    "        <th>Fold 2</th>\n",
    "        <th>Fold 3</th>\n",
    "    </tr>\n",
    "    </thead>\n",
    "    <tbody>\n",
    "        <tr>\n",
    "            <td>1</td>\n",
    "            <td style=\"background:grey;font-weight:bold;\">Test</td>\n",
    "            <td>Train</td>\n",
    "            <td>Train</td>\n",
    "        </tr>\n",
    "        <tr>\n",
    "        <td>2</td>\n",
    "            <td>Train</td>\n",
    "            <td style=\"background:grey;font-weight:bold;\">Test</td>\n",
    "            <td>Train</td>\n",
    "        </tr>\n",
    "        <tr>\n",
    "            <td>3</td>\n",
    "            <td>Train</td>\n",
    "            <td>Train</td>\n",
    "            <td style=\"background:grey;font-weight:bold;\">Test</td>\n",
    "        </tr>\n",
    "    </tbody>\n",
    "</table>\n",
    "\n",
    "\n",
    "<p>\n",
    "<span style=\"display:inline-block;width:12px;height:12px;border:1px solid;margin-right:4px;\"></span>\n",
    "Entrenamiento &nbsp;&nbsp;\n",
    "<span style=\"display:inline-block;width:12px;height:12px;background: grey;border:1px solid;margin-right:4px;\"></span>\n",
    "Prueba (Test)\n",
    "</p>"
   ]
  },
  {
   "cell_type": "code",
   "execution_count": 1,
   "id": "c55bcd24",
   "metadata": {},
   "outputs": [],
   "source": [
    "import numpy as np\n",
    "from sklearn.model_selection import KFold"
   ]
  },
  {
   "cell_type": "code",
   "execution_count": 2,
   "id": "5956826c",
   "metadata": {},
   "outputs": [],
   "source": [
    "x = np.array([[1, 2], [3, 4], [5, 6], [7, 8]])\n",
    "y = np.array([11, 12, 13, 14])"
   ]
  },
  {
   "cell_type": "code",
   "execution_count": null,
   "id": "fdf094e1",
   "metadata": {},
   "outputs": [
    {
     "data": {
      "text/plain": [
       "KFold(n_splits=2, random_state=None, shuffle=False)"
      ]
     },
     "execution_count": 20,
     "metadata": {},
     "output_type": "execute_result"
    }
   ],
   "source": [
    "kf = KFold(n_splits=2)\n",
    "\"\"\"\n",
    "n_splits=n          ->       número de folds que se harán (2 < dataset <= len(dateset))\n",
    "random_state=None   ->       es la  ** semilla **  para generar una misma aleatoriedad (shuffle == True)\n",
    "shuffle=False       ->       determina si los folds se mezclarán antes de la iteración\n",
    "\n",
    "cabe aclarar que el ciclo empieza desde el final del dataset, es decir, se ejecuta de derecha a izquierda\n",
    "\"\"\"\n",
    "kf"
   ]
  },
  {
   "cell_type": "code",
   "execution_count": null,
   "id": "aad26a03",
   "metadata": {},
   "outputs": [
    {
     "name": "stdout",
     "output_type": "stream",
     "text": [
      "Train: [2 3], Test: [0 1]\n",
      "\n",
      "Train: [0 1], Test: [2 3]\n",
      "\n"
     ]
    }
   ],
   "source": [
    "# Se recorren los ciclos de kf para asignar cada valor a train y test según el n_splits asignado\n",
    "for train_index, test_index in kf.split(x):\n",
    "    # Esto imprime las posiciones dentro del dataset de los datos que se están usando en cada caso\n",
    "    print(f\"Train: {train_index}, Test: {test_index}\\n\")\n",
    "    x_train, x_test = x[train_index], x[test_index]\n"
   ]
  },
  {
   "cell_type": "code",
   "execution_count": 37,
   "id": "ba33ae17",
   "metadata": {},
   "outputs": [
    {
     "name": "stdout",
     "output_type": "stream",
     "text": [
      "Valores de X:\n",
      "TRAIN:\n",
      "[[1 2]\n",
      " [3 4]]\n",
      "\n",
      "TEST:\n",
      "[[5 6]\n",
      " [7 8]]\n"
     ]
    }
   ],
   "source": [
    "print(f\"Valores de X:\\nTRAIN:\\n{x_train}\\n\\nTEST:\\n{x_test}\")"
   ]
  },
  {
   "cell_type": "code",
   "execution_count": null,
   "id": "c3096a72",
   "metadata": {},
   "outputs": [],
   "source": [
    "# El random_state le dice al shuffle desde qué \"seed\" hará cada mezcla de la iteracion, es decir, que todas parten desde el mismo randomizer asignado, si solo estuviera shuffle en True entonces cada iteración sería diferente\n",
    "kf_y = KFold(n_splits=4, random_state=7, shuffle=True)"
   ]
  },
  {
   "cell_type": "code",
   "execution_count": 36,
   "id": "691df149",
   "metadata": {},
   "outputs": [
    {
     "name": "stdout",
     "output_type": "stream",
     "text": [
      "TRAIN: [0 1 3], TEST: [2]\n",
      "TRAIN: [0 2 3], TEST: [1]\n",
      "TRAIN: [1 2 3], TEST: [0]\n",
      "TRAIN: [0 1 2], TEST: [3]\n"
     ]
    }
   ],
   "source": [
    "for train_index, test_index in kf_y.split(y):\n",
    "    print(f\"TRAIN: {train_index}, TEST: {test_index}\")\n",
    "    y_train, y_test = y[train_index], y[test_index]\n"
   ]
  },
  {
   "cell_type": "code",
   "execution_count": 38,
   "id": "87338dab",
   "metadata": {},
   "outputs": [
    {
     "name": "stdout",
     "output_type": "stream",
     "text": [
      "Valores de Y:\n",
      "TRAIN:\n",
      "[11 12 13]\n",
      "\n",
      "TEST:\n",
      "[14]\n"
     ]
    }
   ],
   "source": [
    "print(f\"Valores de Y:\\nTRAIN:\\n{y_train}\\n\\nTEST:\\n{y_test}\")"
   ]
  }
 ],
 "metadata": {
  "kernelspec": {
   "display_name": ".venv",
   "language": "python",
   "name": "python3"
  },
  "language_info": {
   "codemirror_mode": {
    "name": "ipython",
    "version": 3
   },
   "file_extension": ".py",
   "mimetype": "text/x-python",
   "name": "python",
   "nbconvert_exporter": "python",
   "pygments_lexer": "ipython3",
   "version": "3.13.0"
  }
 },
 "nbformat": 4,
 "nbformat_minor": 5
}
