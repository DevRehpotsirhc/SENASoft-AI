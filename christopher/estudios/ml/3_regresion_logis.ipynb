{
 "cells": [
  {
   "cell_type": "markdown",
   "id": "1ac0f40b",
   "metadata": {},
   "source": [
    "# Regresión Logística (LR o LoR)"
   ]
  },
  {
   "cell_type": "markdown",
   "id": "9aa6dd88",
   "metadata": {},
   "source": [
    "Este tipo de regresión se centra en la gráfica sigmoide (en forma de S) que representa la probabilidad entre 0 y 1 de que ocurra algo; se divide en dos clases, positiva (cuando es >= 0.5) o negativa (cuando es < 0.5)"
   ]
  },
  {
   "cell_type": "code",
   "execution_count": 2,
   "id": "ae604eef",
   "metadata": {},
   "outputs": [],
   "source": [
    "import numpy as np\n",
    "import pandas as pd\n",
    "import matplotlib.pyplot as plt"
   ]
  },
  {
   "cell_type": "code",
   "execution_count": 3,
   "id": "0460b960",
   "metadata": {},
   "outputs": [
    {
     "data": {
      "text/plain": [
       "[<matplotlib.lines.Line2D at 0x19f7a2d8cd0>]"
      ]
     },
     "execution_count": 3,
     "metadata": {},
     "output_type": "execute_result"
    },
    {
     "data": {
      "image/png": "[encoded data removed]",
      "text/plain": [
       "<Figure size 800x600 with 1 Axes>"
      ]
     },
     "metadata": {},
     "output_type": "display_data"
    }
   ],
   "source": [
    "\"\"\"\n",
    "ESTO SOLO SIRVE A NIVEL TEÓRICO NO TIENE APLICABILIDAD EN LA PRÁCTICA,\n",
    "AQUÍ SE MUESTRA CÓMO SE VE LA GRÁFICA DE LA PROBABILIDAD ENTRE 0 Y 1 \n",
    "Y CÓMO SE SUPONE QUE SE DIBUJA ESA LÍNEA EN S QUE REPRESENTA A LA\n",
    "REGRESIÓN LOGÍSTICA\n",
    "\"\"\"\n",
    "\n",
    "def sigmoid(x):\n",
    "    return (1 / (1 + np.exp(-x)))\n",
    "\n",
    "fig = plt.figure(figsize=(8, 6))\n",
    "ax = fig.add_subplot(111)\n",
    "x = np.linspace(-5, 5, 20)\n",
    "plt.grid()\n",
    "ax.text(-2.5, 0.8, r'$\\sigma(x)=\\frac{1}{1+e^{-x}}$', fontsize=20)\n",
    "plt.plot(x, sigmoid(x), 'b')"
   ]
  },
  {
   "cell_type": "code",
   "execution_count": 27,
   "id": "58471903",
   "metadata": {},
   "outputs": [],
   "source": [
    "\"\"\"\n",
    "En la practica se usará más \n",
    "frecuentemente las siguientes \n",
    "importaciones\n",
    "\"\"\"\n",
    "# Preprocesamiento\n",
    "from sklearn.preprocessing import LabelEncoder          # Su transformación tiene un peso sobre la predicción del modelo (son valores enteros que pueden ser comparados por orden, ejemplo: 0, 1, 2)\n",
    "from sklearn.preprocessing import OneHotEncoder         # Su transformación solo sirve para separar categorías o para usarse como etiquetas, no tiene un peso por sí solo\n",
    "from sklearn.preprocessing import StandardScaler        # Hace que los valores estén bajo la misma escala para que el modelo las compare todas por igual\n",
    "\n",
    "# Importaciones de entrenamiento para Regresión Logística\n",
    "from sklearn.linear_model import LogisticRegression\n",
    "from sklearn.model_selection import train_test_split\n",
    "from sklearn.metrics import accuracy_score"
   ]
  },
  {
   "cell_type": "markdown",
   "id": "387b7f91",
   "metadata": {},
   "source": [
    "## Ejemplo de entrenamiento común"
   ]
  },
  {
   "cell_type": "code",
   "execution_count": null,
   "id": "951904e3",
   "metadata": {},
   "outputs": [],
   "source": [
    "# Dadaset de x = horas de estudio, vs y = aprobado o reprobado\n",
    "x = np.array([[1], [2], [3], [4], [5], [6]])    # Características\n",
    "y = np.array([0, 0, 0, 1, 1, 1])                # Etiquetas"
   ]
  },
  {
   "cell_type": "code",
   "execution_count": null,
   "id": "f2519aae",
   "metadata": {},
   "outputs": [],
   "source": [
    "# Variables de entrenamiento y test\n",
    "x_train, x_test, y_train, y_test = train_test_split(x, y, test_size=0.25, random_state=7)"
   ]
  },
  {
   "cell_type": "code",
   "execution_count": 7,
   "id": "04458a9b",
   "metadata": {},
   "outputs": [],
   "source": [
    "# Se crea el modelo predictivo\n",
    "model = LogisticRegression()\n",
    "# Se entrena con los datos\n",
    "model.fit(x_train, y_train)\n",
    "# Se hace la predicción\n",
    "y_pred = model.predict(x_test)"
   ]
  },
  {
   "cell_type": "code",
   "execution_count": null,
   "id": "121dc881",
   "metadata": {},
   "outputs": [
    {
     "name": "stdout",
     "output_type": "stream",
     "text": [
      "Predicciones: [0 1]\n",
      "\n",
      "Precisión: 0.5\n",
      "\n",
      "Probabilidad:\n",
      "[[0.58781698 0.41218302]\n",
      " [0.18626407 0.81373593]]\n"
     ]
    }
   ],
   "source": [
    "print(f\"Predicción: {y_pred}\\n\\nPrecisión: {accuracy_score(y_test, y_pred)}\\n\\nProbabilidad:\\n{model.predict_proba(x_test)}\")"
   ]
  },
  {
   "cell_type": "markdown",
   "id": "6b72e039",
   "metadata": {},
   "source": [
    "## Ejemplo con preprocesamiento y normalización"
   ]
  },
  {
   "cell_type": "code",
   "execution_count": 18,
   "id": "714b4d1c",
   "metadata": {},
   "outputs": [
    {
     "data": {
      "text/html": [
       "<div>\n",
       "<style scoped>\n",
       "    .dataframe tbody tr th:only-of-type {\n",
       "        vertical-align: middle;\n",
       "    }\n",
       "\n",
       "    .dataframe tbody tr th {\n",
       "        vertical-align: top;\n",
       "    }\n",
       "\n",
       "    .dataframe thead th {\n",
       "        text-align: right;\n",
       "    }\n",
       "</style>\n",
       "<table border=\"1\" class=\"dataframe\">\n",
       "  <thead>\n",
       "    <tr style=\"text-align: right;\">\n",
       "      <th></th>\n",
       "      <th>animal</th>\n",
       "      <th>es_domestico</th>\n",
       "    </tr>\n",
       "  </thead>\n",
       "  <tbody>\n",
       "    <tr>\n",
       "      <th>0</th>\n",
       "      <td>perro</td>\n",
       "      <td>si</td>\n",
       "    </tr>\n",
       "    <tr>\n",
       "      <th>1</th>\n",
       "      <td>gato</td>\n",
       "      <td>si</td>\n",
       "    </tr>\n",
       "    <tr>\n",
       "      <th>2</th>\n",
       "      <td>pez</td>\n",
       "      <td>no</td>\n",
       "    </tr>\n",
       "    <tr>\n",
       "      <th>3</th>\n",
       "      <td>loro</td>\n",
       "      <td>si</td>\n",
       "    </tr>\n",
       "    <tr>\n",
       "      <th>4</th>\n",
       "      <td>tigre</td>\n",
       "      <td>no</td>\n",
       "    </tr>\n",
       "    <tr>\n",
       "      <th>5</th>\n",
       "      <td>perro</td>\n",
       "      <td>si</td>\n",
       "    </tr>\n",
       "    <tr>\n",
       "      <th>6</th>\n",
       "      <td>gato</td>\n",
       "      <td>si</td>\n",
       "    </tr>\n",
       "    <tr>\n",
       "      <th>7</th>\n",
       "      <td>pez</td>\n",
       "      <td>no</td>\n",
       "    </tr>\n",
       "  </tbody>\n",
       "</table>\n",
       "</div>"
      ],
      "text/plain": [
       "  animal es_domestico\n",
       "0  perro           si\n",
       "1   gato           si\n",
       "2    pez           no\n",
       "3   loro           si\n",
       "4  tigre           no\n",
       "5  perro           si\n",
       "6   gato           si\n",
       "7    pez           no"
      ]
     },
     "execution_count": 18,
     "metadata": {},
     "output_type": "execute_result"
    }
   ],
   "source": [
    "# Dataset de animales\n",
    "data = pd.DataFrame({\n",
    "    \"animal\": [\"perro\", \"gato\", \"pez\", \"loro\", \"tigre\", \"perro\", \"gato\", \"pez\"],    # Categorías\n",
    "    \"es_domestico\": [\"si\", \"si\", \"no\", \"si\", \"no\", \"si\", \"si\", \"no\"]                # Etiquetas\n",
    "})\n",
    "\n",
    "x = data[['animal']].values        # Debe ser de 2 dimensiones el array\n",
    "y = data['es_domestico'].values    # Debe ser de 1D\n",
    "\n",
    "data    # Datos sin procesar"
   ]
  },
  {
   "cell_type": "code",
   "execution_count": null,
   "id": "812a738c",
   "metadata": {},
   "outputs": [
    {
     "name": "stdout",
     "output_type": "stream",
     "text": [
      "OneHotEncoder de x:\n",
      "[[0. 0. 1. 0. 0.]\n",
      " [1. 0. 0. 0. 0.]\n",
      " [0. 0. 0. 1. 0.]\n",
      " [0. 1. 0. 0. 0.]\n",
      " [0. 0. 0. 0. 1.]\n",
      " [0. 0. 1. 0. 0.]\n",
      " [1. 0. 0. 0. 0.]\n",
      " [0. 0. 0. 1. 0.]]\n",
      "\n",
      "Categorías:\n",
      "[array(['gato', 'loro', 'perro', 'pez', 'tigre'], dtype=object)]\n"
     ]
    }
   ],
   "source": [
    "# Transformación a un vector binario\n",
    "ohn = OneHotEncoder(sparse_output=False)\n",
    "x_encoded = ohn.fit_transform(x)\n",
    "\n",
    "print(f\"OneHotEncoder de x:\\n{x_encoded}\\n\\nCategorías:\\n{ohn.categories_}\")"
   ]
  },
  {
   "cell_type": "code",
   "execution_count": null,
   "id": "ca553c9a",
   "metadata": {},
   "outputs": [
    {
     "data": {
      "text/plain": [
       "array([[-0.57735027, -0.37796447,  1.73205081, -0.57735027, -0.37796447],\n",
       "       [ 1.73205081, -0.37796447, -0.57735027, -0.57735027, -0.37796447],\n",
       "       [-0.57735027, -0.37796447, -0.57735027,  1.73205081, -0.37796447],\n",
       "       [-0.57735027,  2.64575131, -0.57735027, -0.57735027, -0.37796447],\n",
       "       [-0.57735027, -0.37796447, -0.57735027, -0.57735027,  2.64575131],\n",
       "       [-0.57735027, -0.37796447,  1.73205081, -0.57735027, -0.37796447],\n",
       "       [ 1.73205081, -0.37796447, -0.57735027, -0.57735027, -0.37796447],\n",
       "       [-0.57735027, -0.37796447, -0.57735027,  1.73205081, -0.37796447]])"
      ]
     },
     "execution_count": 28,
     "metadata": {},
     "output_type": "execute_result"
    }
   ],
   "source": [
    "# Escalado estándar\n",
    "sc = StandardScaler()\n",
    "x_scaled = sc.fit_transform(x_encoded)\n",
    "x_scaled"
   ]
  },
  {
   "cell_type": "code",
   "execution_count": 20,
   "id": "69c27378",
   "metadata": {},
   "outputs": [
    {
     "name": "stdout",
     "output_type": "stream",
     "text": [
      "LabelEncoder de y:\n",
      "[1 1 0 1 0 1 1 0]\n",
      "\n",
      "Clases(Etiquetas):\n",
      "['no' 'si']\n"
     ]
    }
   ],
   "source": [
    "# Transformación a enteros\n",
    "le = LabelEncoder()\n",
    "y_encoded = le.fit_transform(y) #type:ignore\n",
    "\n",
    "print(f\"LabelEncoder de y:\\n{y_encoded}\\n\\nClases(Etiquetas):\\n{le.classes_}\")\n"
   ]
  },
  {
   "cell_type": "code",
   "execution_count": 29,
   "id": "d1fc76b9",
   "metadata": {},
   "outputs": [],
   "source": [
    "# Entrenamiento\n",
    "x_train, x_test, y_train, y_test = train_test_split(x_scaled, y_encoded, test_size=0.25, random_state=7)\n",
    "model = LogisticRegression()\n",
    "model.fit(x_train, y_train)\n",
    "\n",
    "y_pred = model.predict(x_test)"
   ]
  },
  {
   "cell_type": "code",
   "execution_count": 30,
   "id": "267b0e3a",
   "metadata": {},
   "outputs": [
    {
     "name": "stdout",
     "output_type": "stream",
     "text": [
      "Predicción: [0 1]\n",
      "\n",
      "Precisión: 1.0\n",
      "\n",
      "Probabilidad:\n",
      "[[0.69815722 0.30184278]\n",
      " [0.16263249 0.83736751]]\n"
     ]
    }
   ],
   "source": [
    "print(f\"Predicción: {y_pred}\\n\\nPrecisión: {accuracy_score(y_test, y_pred)}\\n\\nProbabilidad:\\n{model.predict_proba(x_test)}\")"
   ]
  }
 ],
 "metadata": {
  "kernelspec": {
   "display_name": ".venv",
   "language": "python",
   "name": "python3"
  },
  "language_info": {
   "codemirror_mode": {
    "name": "ipython",
    "version": 3
   },
   "file_extension": ".py",
   "mimetype": "text/x-python",
   "name": "python",
   "nbconvert_exporter": "python",
   "pygments_lexer": "ipython3",
   "version": "3.13.0"
  }
 },
 "nbformat": 4,
 "nbformat_minor": 5
}
