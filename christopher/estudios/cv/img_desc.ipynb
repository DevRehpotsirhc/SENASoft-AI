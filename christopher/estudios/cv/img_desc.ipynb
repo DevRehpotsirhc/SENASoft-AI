{
 "cells": [
  {
   "cell_type": "code",
   "execution_count": 10,
   "id": "5a00100d",
   "metadata": {},
   "outputs": [],
   "source": [
    "from transformers import pipeline\n",
    "from transformers import M2M100ForConditionalGeneration, M2M100Tokenizer"
   ]
  },
  {
   "cell_type": "code",
   "execution_count": null,
   "id": "03b9f2eb",
   "metadata": {},
   "outputs": [
    {
     "name": "stderr",
     "output_type": "stream",
     "text": [
      "c:\\Users\\chris\\OneDrive\\Documentos\\SENASoft\\.venv\\Lib\\site-packages\\transformers\\models\\auto\\modeling_auto.py:2242: FutureWarning: The class `AutoModelForVision2Seq` is deprecated and will be removed in v5.0. Please use `AutoModelForImageTextToText` instead.\n",
      "  warnings.warn(\n"
     ]
    },
    {
     "data": {
      "application/vnd.jupyter.widget-view+json": {
       "model_id": "c00111b6f9f0459782c2898ffff62fb1",
       "version_major": 2,
       "version_minor": 0
      },
      "text/plain": [
       "Fetching 1 files:   0%|          | 0/1 [00:00<?, ?it/s]"
      ]
     },
     "metadata": {},
     "output_type": "display_data"
    },
    {
     "name": "stderr",
     "output_type": "stream",
     "text": [
      "Device set to use cuda\n"
     ]
    }
   ],
   "source": [
    "transcriptor = pipeline(\n",
    "    \"image-to-text\", \n",
    "    model=\"nlpconnect/vit-gpt2-image-captioning\", \n",
    "    device=\"cuda\"\n",
    ")\n",
    "\n",
    "model_name = \"facebook/m2m100_418M\"\n",
    "tokenizer = M2M100Tokenizer.from_pretrained(model_name)\n",
    "traductor = M2M100ForConditionalGeneration.from_pretrained(model_name)"
   ]
  },
  {
   "cell_type": "code",
   "execution_count": null,
   "id": "dee67340",
   "metadata": {},
   "outputs": [],
   "source": [
    "def traducir_texto(texto: str, idioma_des: str = \"en\") -> str:\n",
    "    idioma_src = \"en\"\n",
    "    tokenizer.src_lang = idioma_src\n",
    "\n",
    "    encoded = tokenizer(texto, return_tensors=\"pt\")\n",
    "\n",
    "    generated_tokens = traductor.generate(\n",
    "        **encoded,\n",
    "        forced_bos_token_id=tokenizer.get_lang_id(idioma_des)\n",
    "    )\n",
    "\n",
    "    traducido = tokenizer.batch_decode(generated_tokens, skip_special_tokens=True)[0]\n",
    "    return traducido"
   ]
  },
  {
   "cell_type": "code",
   "execution_count": null,
   "id": "a6760eb8",
   "metadata": {},
   "outputs": [],
   "source": [
    "def desc_img(imagen: str):\n",
    "    respuesta = transcriptor(imagen)[0][\"generated_text\"]\n",
    "    respuesta = traducir_texto(respuesta, \"es\")\n",
    "    return respuesta"
   ]
  },
  {
   "cell_type": "code",
   "execution_count": 24,
   "id": "59c1ce3c",
   "metadata": {},
   "outputs": [
    {
     "name": "stderr",
     "output_type": "stream",
     "text": [
      "You seem to be using the pipelines sequentially on GPU. In order to maximize efficiency please use a dataset\n"
     ]
    },
    {
     "name": "stdout",
     "output_type": "stream",
     "text": [
      "Una mujer que tiene un gato y un perro\n",
      "Una chica mira un papel\n"
     ]
    }
   ],
   "source": [
    "print(desc_img(\"../cv/images/perro_gato_persona.jpg\"))\n",
    "print(desc_img(\"../cv/images/estudiantes-estudiando.jpg\"))"
   ]
  }
 ],
 "metadata": {
  "kernelspec": {
   "display_name": ".venv",
   "language": "python",
   "name": "python3"
  },
  "language_info": {
   "codemirror_mode": {
    "name": "ipython",
    "version": 3
   },
   "file_extension": ".py",
   "mimetype": "text/x-python",
   "name": "python",
   "nbconvert_exporter": "python",
   "pygments_lexer": "ipython3",
   "version": "3.13.0"
  }
 },
 "nbformat": 4,
 "nbformat_minor": 5
}
