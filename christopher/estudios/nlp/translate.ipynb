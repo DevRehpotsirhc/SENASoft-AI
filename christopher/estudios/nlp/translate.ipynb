{
 "cells": [
  {
   "cell_type": "code",
   "execution_count": 35,
   "id": "8a1b183b",
   "metadata": {},
   "outputs": [],
   "source": [
    "from transformers import pipeline\n",
    "from transformers import M2M100ForConditionalGeneration, M2M100Tokenizer\n",
    "import re"
   ]
  },
  {
   "cell_type": "code",
   "execution_count": 36,
   "id": "024e56a8",
   "metadata": {},
   "outputs": [
    {
     "name": "stderr",
     "output_type": "stream",
     "text": [
      "Some weights of the model checkpoint at joeddav/xlm-roberta-large-xnli were not used when initializing XLMRobertaForSequenceClassification: ['roberta.pooler.dense.bias', 'roberta.pooler.dense.weight']\n",
      "- This IS expected if you are initializing XLMRobertaForSequenceClassification from the checkpoint of a model trained on another task or with another architecture (e.g. initializing a BertForSequenceClassification model from a BertForPreTraining model).\n",
      "- This IS NOT expected if you are initializing XLMRobertaForSequenceClassification from the checkpoint of a model that you expect to be exactly identical (initializing a BertForSequenceClassification model from a BertForSequenceClassification model).\n",
      "Device set to use cuda\n",
      "Device set to use cuda\n"
     ]
    }
   ],
   "source": [
    "clasificador = pipeline(\n",
    "    \"zero-shot-classification\",\n",
    "    model=\"joeddav/xlm-roberta-large-xnli\",\n",
    "    device=\"cuda\"\n",
    ")\n",
    "\n",
    "detector = pipeline(\n",
    "    \"text-classification\", \n",
    "    model=\"papluca/xlm-roberta-base-language-detection\",\n",
    "    device=\"cuda\"\n",
    ")\n",
    "\n",
    "model_name = \"facebook/m2m100_418M\"\n",
    "tokenizer = M2M100Tokenizer.from_pretrained(model_name)\n",
    "traductor = M2M100ForConditionalGeneration.from_pretrained(model_name)"
   ]
  },
  {
   "cell_type": "code",
   "execution_count": 43,
   "id": "fecfddc2",
   "metadata": {},
   "outputs": [],
   "source": [
    "IDIOMAS = {\n",
    "    # Español\n",
    "    \"español\": \"es\",\n",
    "    \"spanish\": \"es\",\n",
    "    \"espagnol\": \"es\",\n",
    "    \"spanisch\": \"es\",\n",
    "    \"es\": \"es\",\n",
    "\n",
    "    # Inglés\n",
    "    \"inglés\": \"en\",\n",
    "    \"english\": \"en\",\n",
    "    \"anglais\": \"en\",\n",
    "    \"englisch\": \"en\",\n",
    "    \"en\": \"en\",\n",
    "\n",
    "    # Francés\n",
    "    \"francés\": \"fr\",\n",
    "    \"french\": \"fr\",\n",
    "    \"français\": \"fr\",\n",
    "    \"französisch\": \"fr\",\n",
    "    \"fr\": \"fr\",\n",
    "\n",
    "    # Alemán\n",
    "    \"alemán\": \"de\",\n",
    "    \"german\": \"de\",\n",
    "    \"deutsch\": \"de\",\n",
    "    \"allemand\": \"de\",\n",
    "    \"de\": \"de\",\n",
    "}\n",
    "\n",
    "def detectar_idioma(texto: str):\n",
    "    \"\"\"\n",
    "    Detecta el idioma de destino a partir de expresiones como:\n",
    "    'a francés', 'to english', 'ins deutsche', etc.\n",
    "    Retorna el código ('es', 'en', 'fr', 'de').\n",
    "    \"\"\"\n",
    "    texto_lower = texto.lower()\n",
    "\n",
    "    for nombre, codigo in IDIOMAS.items():\n",
    "        patron = r\"\\b\" + re.escape(nombre) + r\"\\b\"\n",
    "        if re.search(patron, texto_lower):\n",
    "            return codigo\n",
    "\n",
    "    # fallback: por si no encuentra nada\n",
    "    return \"en\"\n"
   ]
  },
  {
   "cell_type": "code",
   "execution_count": 40,
   "id": "8b494de2",
   "metadata": {},
   "outputs": [],
   "source": [
    "def traducir(texto: str) -> str:\n",
    "    # 1. Detectar idioma destino (mejorado)\n",
    "    idioma_destino = detectar_idioma(texto)\n",
    "\n",
    "    # 2. Extraer contenido real a traducir\n",
    "    match = re.search(r\":\\s*(.+)$\", texto)\n",
    "    contenido = match.group(1) if match else texto\n",
    "\n",
    "    # 3. Detectar idioma de origen del contenido\n",
    "    idioma_origen = detector(contenido, top_k=1)[0][\"label\"]\n",
    "\n",
    "    # 4. Traducir solo el contenido\n",
    "    tokenizer.src_lang = idioma_origen\n",
    "    inputs = tokenizer(contenido, return_tensors=\"pt\").to(traductor.device)\n",
    "\n",
    "    generated_tokens = traductor.generate(\n",
    "        **inputs,\n",
    "        forced_bos_token_id=tokenizer.get_lang_id(idioma_destino)\n",
    "    )\n",
    "    return tokenizer.batch_decode(generated_tokens, skip_special_tokens=True)[0]"
   ]
  },
  {
   "cell_type": "code",
   "execution_count": 49,
   "id": "3f5d480b",
   "metadata": {},
   "outputs": [
    {
     "name": "stdout",
     "output_type": "stream",
     "text": [
      "Hallo wie bist du\n"
     ]
    }
   ],
   "source": [
    "print(traducir(\"translate this to german: hello how are you\"))"
   ]
  }
 ],
 "metadata": {
  "kernelspec": {
   "display_name": ".venv",
   "language": "python",
   "name": "python3"
  },
  "language_info": {
   "codemirror_mode": {
    "name": "ipython",
    "version": 3
   },
   "file_extension": ".py",
   "mimetype": "text/x-python",
   "name": "python",
   "nbconvert_exporter": "python",
   "pygments_lexer": "ipython3",
   "version": "3.13.0"
  }
 },
 "nbformat": 4,
 "nbformat_minor": 5
}
