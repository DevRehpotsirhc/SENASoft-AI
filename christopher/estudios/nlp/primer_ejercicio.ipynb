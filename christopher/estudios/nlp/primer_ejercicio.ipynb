{
 "cells": [
  {
   "cell_type": "markdown",
   "id": "0650de54",
   "metadata": {},
   "source": [
    "# Ejercicio 1 - Manejo de Datos con NLP"
   ]
  },
  {
   "cell_type": "code",
   "execution_count": 1,
   "id": "63982e79",
   "metadata": {},
   "outputs": [
    {
     "name": "stderr",
     "output_type": "stream",
     "text": [
      "c:\\Users\\chris\\OneDrive\\Documentos\\SENASoft\\.venv\\Lib\\site-packages\\tqdm\\auto.py:21: TqdmWarning: IProgress not found. Please update jupyter and ipywidgets. See https://ipywidgets.readthedocs.io/en/stable/user_install.html\n",
      "  from .autonotebook import tqdm as notebook_tqdm\n"
     ]
    }
   ],
   "source": [
    "# Importo la librería de trabajo de Hugging Face (transformers) y lo que necesito\n",
    "from transformers import pipeline, AutoTokenizer\n",
    "# Importo pandas para trabajar con DataFrames\n",
    "import pandas as pd\n",
    "# Otras importanciones para limpieza de texto\n",
    "from rapidfuzz import process\n",
    "import unicodedata, re"
   ]
  },
  {
   "cell_type": "markdown",
   "id": "f77909b2",
   "metadata": {},
   "source": [
    "## Carga de trabajo"
   ]
  },
  {
   "cell_type": "code",
   "execution_count": 2,
   "id": "c6b7b28a",
   "metadata": {},
   "outputs": [
    {
     "name": "stdout",
     "output_type": "stream",
     "text": [
      "<class 'pandas.core.frame.DataFrame'>\n",
      "RangeIndex: 21 entries, 0 to 20\n",
      "Data columns (total 4 columns):\n",
      " #   Column    Non-Null Count  Dtype \n",
      "---  ------    --------------  ----- \n",
      " 0   nombre    21 non-null     object\n",
      " 1   apellido  21 non-null     object\n",
      " 2   edad      21 non-null     int64 \n",
      " 3   sueldo    21 non-null     int64 \n",
      "dtypes: int64(2), object(2)\n",
      "memory usage: 804.0+ bytes\n"
     ]
    }
   ],
   "source": [
    "# Creo el DataFrame principal\n",
    "df = pd.read_csv('../data/personas.csv')\n",
    "df.info()"
   ]
  },
  {
   "cell_type": "code",
   "execution_count": null,
   "id": "5734e195",
   "metadata": {},
   "outputs": [
    {
     "name": "stderr",
     "output_type": "stream",
     "text": [
      "Some weights of the model checkpoint at joeddav/xlm-roberta-large-xnli were not used when initializing XLMRobertaForSequenceClassification: ['roberta.pooler.dense.bias', 'roberta.pooler.dense.weight']\n",
      "- This IS expected if you are initializing XLMRobertaForSequenceClassification from the checkpoint of a model trained on another task or with another architecture (e.g. initializing a BertForSequenceClassification model from a BertForPreTraining model).\n",
      "- This IS NOT expected if you are initializing XLMRobertaForSequenceClassification from the checkpoint of a model that you expect to be exactly identical (initializing a BertForSequenceClassification model from a BertForSequenceClassification model).\n",
      "Device set to use cpu\n"
     ]
    }
   ],
   "source": [
    "# Asigno un modelo preentrenado para trabajar, especializado en clasificar texto\n",
    "ai = pipeline(\n",
    "    \"zero-shot-classification\",\n",
    "    model=\"joeddav/xlm-roberta-large-xnli\"\n",
    ")"
   ]
  },
  {
   "cell_type": "markdown",
   "id": "a0d9a5ea",
   "metadata": {},
   "source": [
    "## Funciones que usará el modelo"
   ]
  },
  {
   "cell_type": "code",
   "execution_count": null,
   "id": "9b919e5c",
   "metadata": {},
   "outputs": [
    {
     "data": {
      "text/plain": [
       "'maria esta mir ndo las estrellas con un nino'"
      ]
     },
     "execution_count": 4,
     "metadata": {},
     "output_type": "execute_result"
    }
   ],
   "source": [
    "# Función para quitar tildes, símbolos o demás\n",
    "def limpiar_texto(texto: str) -> str:\n",
    "    \"\"\"limpiar_texto\n",
    "    \n",
    "    Se encarga de normalizar el texto,\n",
    "    concatena cada caracter sin tildes,\n",
    "    permite solo letras, números y espacios\n",
    "    y quita los espacios de más.\n",
    "\n",
    "    Args:\n",
    "        texto (str): texto de cualquier longitud\n",
    "\n",
    "    Returns:\n",
    "        str: texto limpio para trabajar\n",
    "    \"\"\"\n",
    "\n",
    "    # Lo paso a minusculas\n",
    "    texto = texto.lower()\n",
    "    # Lo normalizo\n",
    "    texto = unicodedata.normalize(\"NFKD\", texto)\n",
    "    # Concateno los caracteres sin tildes\n",
    "    texto = \"\".join([c for c in texto if not unicodedata.combining(c)])\n",
    "    # Permito solamente números, letras y espacios\n",
    "    texto = re.sub(r\"[^a-z0-9\\s]\", \" \", texto)\n",
    "    # Quito los espacios sobrantes y retorno\n",
    "    return re.sub(r\"\\s+\", \" \", texto).strip()\n",
    "\n",
    "\n",
    "\n",
    "limpiar_texto(\"María está  mir_ndo   las esTRellas con  un niño\")"
   ]
  },
  {
   "cell_type": "code",
   "execution_count": null,
   "id": "11749a6d",
   "metadata": {},
   "outputs": [
    {
     "data": {
      "text/plain": [
       "'Laura'"
      ]
     },
     "execution_count": 5,
     "metadata": {},
     "output_type": "execute_result"
    }
   ],
   "source": [
    "# Función que recorre el texto en busca de una coincidencia\n",
    "def extraer_nombre(texto: str, df: pd.DataFrame):\n",
    "    \"\"\"extraer_nombre\n",
    "    \n",
    "    Convierte los nombres de un DataFrame en\n",
    "    una lista para recorrer, cada nombre se\n",
    "    limpia (normaliza) y se recorre la lista\n",
    "    en busca de una coincidencia\n",
    "\n",
    "    Args:\n",
    "        texto (str): texto en lenguaje humano\n",
    "        df (pd.DataFrame): conjunto de datos\n",
    "\n",
    "    Returns:\n",
    "        str: texto con la coincidencia encontrada\n",
    "    \"\"\"\n",
    "\n",
    "    # Lista de nombres\n",
    "    nombres = df[\"nombre\"].tolist()\n",
    "    # Se limpia cada nombre\n",
    "    nombres = [limpiar_texto(n) for n in nombres]\n",
    "    # Se limpia el texto del parámetro\n",
    "    texto = limpiar_texto(texto)\n",
    "    # Se recorre cada palabra para buscar una coincidencia\n",
    "    for i, n in enumerate(nombres):\n",
    "        if n in texto:\n",
    "            return df[\"nombre\"].iloc[i]\n",
    "        \n",
    "    return \"Comprueba el nombre que escribiste, o es posible que no exista en los registros\"\n",
    "\n",
    "\n",
    "\n",
    "extraer_nombre(\"está con laura en el parque\", df)"
   ]
  },
  {
   "cell_type": "code",
   "execution_count": null,
   "id": "200bb321",
   "metadata": {},
   "outputs": [
    {
     "data": {
      "text/plain": [
       "np.int64(3200)"
      ]
     },
     "execution_count": 6,
     "metadata": {},
     "output_type": "execute_result"
    }
   ],
   "source": [
    "# Función para buscar sueldo por nombre\n",
    "def buscar_sueldo_nombre(nombre: str, df: pd.DataFrame):\n",
    "    \"\"\"buscar_sueldo_nombre\n",
    "    \n",
    "    Compara un nombre con los datos de un \n",
    "    DataFrame para buscar el salario\n",
    "\n",
    "    Args:\n",
    "        nombre (str): nombre de una persona\n",
    "        df (pd.DataFrame): conjunto de datos\n",
    "\n",
    "    Returns:\n",
    "        int: sueldo de la persona\n",
    "    \"\"\"\n",
    "    persona = df.loc[df[\"nombre\"].str.lower() == nombre.lower(), [\"nombre\", \"sueldo\"]]\n",
    "    return persona['sueldo'].values[0] if not persona.empty else f\"No se encontró ninguna persona con el nombre: {nombre.capitalize()}\"\n",
    "\n",
    "\n",
    "\n",
    "buscar_sueldo_nombre(\"maría\", df)"
   ]
  },
  {
   "cell_type": "code",
   "execution_count": null,
   "id": "3e0ebd01",
   "metadata": {},
   "outputs": [
    {
     "data": {
      "text/html": [
       "<div>\n",
       "<style scoped>\n",
       "    .dataframe tbody tr th:only-of-type {\n",
       "        vertical-align: middle;\n",
       "    }\n",
       "\n",
       "    .dataframe tbody tr th {\n",
       "        vertical-align: top;\n",
       "    }\n",
       "\n",
       "    .dataframe thead th {\n",
       "        text-align: right;\n",
       "    }\n",
       "</style>\n",
       "<table border=\"1\" class=\"dataframe\">\n",
       "  <thead>\n",
       "    <tr style=\"text-align: right;\">\n",
       "      <th></th>\n",
       "      <th>nombre</th>\n",
       "      <th>apellido</th>\n",
       "      <th>edad</th>\n",
       "      <th>sueldo</th>\n",
       "    </tr>\n",
       "  </thead>\n",
       "  <tbody>\n",
       "    <tr>\n",
       "      <th>6</th>\n",
       "      <td>Andrés</td>\n",
       "      <td>García</td>\n",
       "      <td>45</td>\n",
       "      <td>4500</td>\n",
       "    </tr>\n",
       "  </tbody>\n",
       "</table>\n",
       "</div>"
      ],
      "text/plain": [
       "   nombre apellido  edad  sueldo\n",
       "6  Andrés   García    45    4500"
      ]
     },
     "execution_count": 7,
     "metadata": {},
     "output_type": "execute_result"
    }
   ],
   "source": [
    "# Función que busca el máximo rango de edad\n",
    "def persona_mayor(df: pd.DataFrame):\n",
    "    \"\"\"persona_mayor\n",
    "\n",
    "    Saca la edad máxima encontrada en \n",
    "    el DataFrame\n",
    "\n",
    "    Args:\n",
    "        df (pd.DataFrame): conjunto de datos\n",
    "\n",
    "    Returns:\n",
    "        DataFrame: conjunto de datos de la persona\n",
    "    \"\"\"\n",
    "    edad_max = df[\"edad\"].max()\n",
    "    return df.loc[df[\"edad\"] == edad_max]\n",
    "\n",
    "\n",
    "\n",
    "persona_mayor(df)"
   ]
  },
  {
   "cell_type": "code",
   "execution_count": null,
   "id": "62615a60",
   "metadata": {},
   "outputs": [
    {
     "data": {
      "text/plain": [
       "np.float64(3300.0)"
      ]
     },
     "execution_count": 8,
     "metadata": {},
     "output_type": "execute_result"
    }
   ],
   "source": [
    "# Función que saca el promedio de los sueldos registrados\n",
    "def promedio(df: pd.DataFrame):\n",
    "    return df[\"sueldo\"].median()\n",
    "\n",
    "\n",
    "\n",
    "promedio(df)"
   ]
  },
  {
   "cell_type": "markdown",
   "id": "1f564cb9",
   "metadata": {},
   "source": [
    "## Función principal con el LLM funcionando"
   ]
  },
  {
   "cell_type": "code",
   "execution_count": 26,
   "id": "6ea5c8d4",
   "metadata": {},
   "outputs": [
    {
     "data": {
      "text/plain": [
       "'Te daré una lista con los datos que encontré:    nombre apellido  edad  sueldo\\n6  Andrés   García    45    4500'"
      ]
     },
     "execution_count": 26,
     "metadata": {},
     "output_type": "execute_result"
    }
   ],
   "source": [
    "# Creo la función principal que clasificará y llamara a una función u otra dependiendo donde se clasifique\n",
    "def responder(pregunta: str, df: pd.DataFrame):\n",
    "    \"\"\"responder\n",
    "    \n",
    "    Clasifica el lenguaje narutal en unas etiquetas\n",
    "    para determinar qué función llamará:\n",
    "        - buscar_sueldo_nombre()\n",
    "        - persona_mayor()\n",
    "        - promedio\n",
    "    Si no entra en ninguna categoría se toma como 'otro'\n",
    "    y le informa que no puede hacer esa consulta.\n",
    "\n",
    "    Args:\n",
    "        pregunta (str): texto en lenguaje humano\n",
    "        df (pd.DataFrame): conjunto de datos\n",
    "\n",
    "    Returns:\n",
    "        str: cadena de texto que concatena la respuesta de la función\n",
    "    \"\"\"\n",
    "\n",
    "    # Etiquetas para el clasificador\n",
    "    etiquetas = [\"sueldo persona\", \"persona con mas edad\", \"mas edad\", \"persona mas vieja\", \"promedio sueldo\", \"otro\"]\n",
    "\n",
    "    # Modelo clasificador\n",
    "    clasificacion = ai(pregunta, etiquetas)\n",
    "\n",
    "    # Condicionales de entrada para cada función\n",
    "    if clasificacion['labels'][0] == \"sueldo persona\": #type:ignore\n",
    "        nombre = extraer_nombre(pregunta, df)\n",
    "        return f\"El sueldo de {nombre} es: {buscar_sueldo_nombre(nombre, df)}\"\n",
    "    \n",
    "    elif clasificacion['labels'][0] in etiquetas[1:4]:  #type:ignore\n",
    "        return f\"Te daré una lista con los datos que encontré: {persona_mayor(df)}\"\n",
    "    \n",
    "    elif clasificacion['labels'][0] == \"promedio sueldo\": #type:ignore\n",
    "        return f\"El promedio de sueldos en mis registros es de: {promedio(df)}\"\n",
    "    \n",
    "    # Condición si no corresponde con una clasificación adecuada\n",
    "    else:\n",
    "        return \"Parece que tu solicitud no puedo comprobarla en este momento o no está en mis capacidades\"\n",
    "\n",
    "\n",
    "\n",
    "# Prueba de funcionamiento\n",
    "responder(\"dime el nombre de la persona con más edad\", df)"
   ]
  }
 ],
 "metadata": {
  "kernelspec": {
   "display_name": ".venv",
   "language": "python",
   "name": "python3"
  },
  "language_info": {
   "codemirror_mode": {
    "name": "ipython",
    "version": 3
   },
   "file_extension": ".py",
   "mimetype": "text/x-python",
   "name": "python",
   "nbconvert_exporter": "python",
   "pygments_lexer": "ipython3",
   "version": "3.13.0"
  }
 },
 "nbformat": 4,
 "nbformat_minor": 5
}
