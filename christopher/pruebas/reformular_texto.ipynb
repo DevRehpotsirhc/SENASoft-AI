{
 "cells": [
  {
   "cell_type": "markdown",
   "id": "c9a511a0",
   "metadata": {},
   "source": [
    "# Extraer Idea Principal"
   ]
  },
  {
   "cell_type": "code",
   "execution_count": null,
   "id": "309832ba",
   "metadata": {},
   "outputs": [],
   "source": [
    "from transformers import pipeline"
   ]
  },
  {
   "cell_type": "markdown",
   "id": "4d7a251f",
   "metadata": {},
   "source": [
    "#### El modelo \"LeoCordoba/mt5-small-cc-news-es-titles\" es el que mejor ha logrado el trabajo de momento, se han probado diversos modelos, sin hacer fine-tuning ni hacer prompt-tuning dicho modelo es de los pocos que se podría decir que cumple, pero de igual manera no logra el objetivo en su totalidad."
   ]
  },
  {
   "cell_type": "code",
   "execution_count": null,
   "id": "b192b95b",
   "metadata": {},
   "outputs": [],
   "source": [
    "resumidor = pipeline(\n",
    "    \"text2text-generation\",\n",
    "    model=\"LeoCordoba/mt5-small-cc-news-es-titles\",\n",
    "    device=0\n",
    ")"
   ]
  },
  {
   "cell_type": "code",
   "execution_count": null,
   "id": "f2387af0",
   "metadata": {},
   "outputs": [],
   "source": [
    "def idea_principal(texto: str) -> str:\n",
    "    prompt = f\"\"\"\n",
    "    Extrae la idea principal del siguiente texto\n",
    "\n",
    "    Texto: {texto}\n",
    "    Idea principal:\n",
    "    \"\"\"\n",
    "    out = resumidor(prompt, max_new_tokens=50, do_sample=False)\n",
    "    return out[0][\"generated_text\"].strip()\n",
    "\n",
    "# Ejemplo\n",
    "texto = \"Cual es el sueldo de Laura, es la que está con juan\"\n",
    "print(idea_principal(texto))"
   ]
  }
 ],
 "metadata": {
  "kernelspec": {
   "display_name": ".venv",
   "language": "python",
   "name": "python3"
  },
  "language_info": {
   "codemirror_mode": {
    "name": "ipython",
    "version": 3
   },
   "file_extension": ".py",
   "mimetype": "text/x-python",
   "name": "python",
   "nbconvert_exporter": "python",
   "pygments_lexer": "ipython3",
   "version": "3.13.0"
  }
 },
 "nbformat": 4,
 "nbformat_minor": 5
}
