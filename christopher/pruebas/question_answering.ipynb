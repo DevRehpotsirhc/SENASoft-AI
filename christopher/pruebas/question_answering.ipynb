{
 "cells": [
  {
   "cell_type": "code",
   "execution_count": 1,
   "id": "ea4c7006",
   "metadata": {},
   "outputs": [],
   "source": [
    "from transformers import pipeline"
   ]
  },
  {
   "cell_type": "code",
   "execution_count": 11,
   "id": "404cb31d",
   "metadata": {},
   "outputs": [
    {
     "data": {
      "application/vnd.jupyter.widget-view+json": {
       "model_id": "aede149f12234269a05d779733defe38",
       "version_major": 2,
       "version_minor": 0
      },
      "text/plain": [
       "Fetching 0 files: 0it [00:00, ?it/s]"
      ]
     },
     "metadata": {},
     "output_type": "display_data"
    },
    {
     "data": {
      "application/vnd.jupyter.widget-view+json": {
       "model_id": "4fad873751bd41e2aa9c57e90de3890b",
       "version_major": 2,
       "version_minor": 0
      },
      "text/plain": [
       "Fetching 1 files:   0%|          | 0/1 [00:00<?, ?it/s]"
      ]
     },
     "metadata": {},
     "output_type": "display_data"
    },
    {
     "data": {
      "application/vnd.jupyter.widget-view+json": {
       "model_id": "ab957362fe774c11908c215c6cd4be46",
       "version_major": 2,
       "version_minor": 0
      },
      "text/plain": [
       "Fetching 0 files: 0it [00:00, ?it/s]"
      ]
     },
     "metadata": {},
     "output_type": "display_data"
    },
    {
     "name": "stderr",
     "output_type": "stream",
     "text": [
      "Device set to use cuda\n"
     ]
    }
   ],
   "source": [
    "respondedor = pipeline(\n",
    "    \"question-answering\", \n",
    "    model=\"deepset/xlm-roberta-base-squad2\",\n",
    "    device=\"cuda\"\n",
    ")"
   ]
  },
  {
   "cell_type": "code",
   "execution_count": 16,
   "id": "7d20935c",
   "metadata": {},
   "outputs": [
    {
     "name": "stdout",
     "output_type": "stream",
     "text": [
      "\n",
      "Christopher\n"
     ]
    }
   ],
   "source": [
    "def responder(pregunta: str, contexto: str):\n",
    "    return respondedor(pregunta, contexto)[\"answer\"] # type:ignore\n",
    "\n",
    "contexto = \"\"\"\n",
    "Laura Martínez is a renowned corporate lawyer. She has worked on multiple international cases and also teaches at universities. Her experience and knowledge have made her a leader in her field.\n",
    "\n",
    "Pedro Sánchez, meanwhile, is an accountant currently working for an international firm. His specialties include financial auditing and tax optimization. He also participates in conferences to stay up-to-date.\n",
    "\n",
    "Christopher is a back-end programmer with extensive experience in Django and Python development.\n",
    "In recent years, he has worked on projects related to artificial intelligence and containerized application deployment. His colleagues praise his ability to integrate AI models into production environments.\n",
    "\n",
    "Finally, Sofía Ramírez is a technology journalist. She publishes articles in national media and covers innovation events. She is also a frequent guest on panel discussions on the impact of AI on society.\n",
    "\"\"\"\n",
    "\n",
    "print(responder(\"Wer ist der Backend-Programmierer?\", contexto))"
   ]
  }
 ],
 "metadata": {
  "kernelspec": {
   "display_name": ".venv",
   "language": "python",
   "name": "python3"
  },
  "language_info": {
   "codemirror_mode": {
    "name": "ipython",
    "version": 3
   },
   "file_extension": ".py",
   "mimetype": "text/x-python",
   "name": "python",
   "nbconvert_exporter": "python",
   "pygments_lexer": "ipython3",
   "version": "3.13.0"
  }
 },
 "nbformat": 4,
 "nbformat_minor": 5
}
